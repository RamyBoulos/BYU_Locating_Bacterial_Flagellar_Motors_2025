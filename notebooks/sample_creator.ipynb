{
 "cells": [
  {
   "cell_type": "markdown",
   "id": "8aab773f",
   "metadata": {},
   "source": [
    "# Sampling a Subset of Training Data\n",
    "\n",
    "This notebook extracts a representative and manageable subset of the full training data for development and experimentation. The sampled data includes both the images and their corresponding labels.\n",
    "\n",
    "---\n",
    "\n",
    "## 1. Setup & Configuration\n",
    "\n",
    "### 1.1 Import Libraries\n",
    "Import required libraries and configuration settings."
   ]
  },
  {
   "cell_type": "code",
   "execution_count": 1,
   "id": "350299ab",
   "metadata": {},
   "outputs": [],
   "source": [
    "# Standard Library\n",
    "import os\n",
    "import sys\n",
    "import random\n",
    "\n",
    "# Add project root to system path to allow src module imports\n",
    "project_root = os.path.abspath(os.path.join(os.getcwd(), \"..\"))\n",
    "if project_root not in sys.path:\n",
    "    sys.path.insert(0, project_root)\n",
    "\n",
    "# Core Libraries\n",
    "import pandas as pd\n",
    "import shutil\n",
    "from pathlib import Path\n",
    "from tqdm import tqdm\n",
    "\n",
    "# Project Configurations\n",
    "from src import config"
   ]
  },
  {
   "cell_type": "markdown",
   "id": "5990c280",
   "metadata": {},
   "source": [
    "#### 1.2 Load Configuration from `config.py`"
   ]
  },
  {
   "cell_type": "code",
   "execution_count": 2,
   "id": "24bf848e",
   "metadata": {},
   "outputs": [
    {
     "name": "stdout",
     "output_type": "stream",
     "text": [
      "Full labels CSV path: /Users/ramy/Desktop/team_project/BYU_Locating_Bacterial_Flagellar_Motors_2025/data/raw/train_labels.csv\n",
      "Original train image directory: /Users/ramy/Desktop/team_project/BYU_Locating_Bacterial_Flagellar_Motors_2025/../byu-locating-bacterial-flagellar-motors-2025/train\n",
      "Sampled image output directory: /Users/ramy/Desktop/team_project/BYU_Locating_Bacterial_Flagellar_Motors_2025/data/sampled/sampled_train\n",
      "Sampled labels CSV path: /Users/ramy/Desktop/team_project/BYU_Locating_Bacterial_Flagellar_Motors_2025/data/sampled/sampled_train_labels.csv\n"
     ]
    }
   ],
   "source": [
    "# Display key paths for reference\n",
    "print(\"Full labels CSV path:\", config.FULL_LABELS_PATH)\n",
    "print(\"Original train image directory:\", config.FULL_DATA_TRAIN_DIR)\n",
    "print(\"Sampled image output directory:\", config.SAMPLED_TRAIN_DIR)\n",
    "print(\"Sampled labels CSV path:\", config.SAMPLED_LABELS_PATH)"
   ]
  },
  {
   "cell_type": "markdown",
   "id": "082acf19",
   "metadata": {},
   "source": [
    "#### 1.3 Verify Paths and File Existence  "
   ]
  },
  {
   "cell_type": "code",
   "execution_count": 3,
   "id": "994d065d",
   "metadata": {},
   "outputs": [
    {
     "name": "stdout",
     "output_type": "stream",
     "text": [
      "\n",
      " Label CSV Exists: True\n",
      " Train Folder Exists: True\n"
     ]
    }
   ],
   "source": [
    "print(\"\\n Label CSV Exists:\", os.path.exists(config.FULL_LABELS_PATH))\n",
    "print(\" Train Folder Exists:\", os.path.exists(config.FULL_DATA_TRAIN_DIR))\n",
    "\n",
    "# Create sampled directories if they do not exist\n",
    "os.makedirs(config.SAMPLED_TRAIN_DIR, exist_ok=True)\n",
    "os.makedirs(os.path.dirname(config.SAMPLED_LABELS_PATH), exist_ok=True)"
   ]
  },
  {
   "cell_type": "markdown",
   "id": "a7658708",
   "metadata": {},
   "source": [
    "## 3. Sample Creation\n",
    "\n",
    "We will now create a stratified sample of the tomograms, taking **exactly 10%** from every motor count class (`0`, `1`, `2`, `3`, `4`, `6`, `10`)."
   ]
  },
  {
   "cell_type": "markdown",
   "id": "50da9c62",
   "metadata": {},
   "source": [
    "### 3.1 Load Full Labels and Identify Classes\n",
    "\n",
    "Load the full dataset from `FULL_LABELS_PATH` and identify all unique motor count classes."
   ]
  },
  {
   "cell_type": "code",
   "execution_count": 4,
   "id": "aa39bd52",
   "metadata": {},
   "outputs": [
    {
     "name": "stdout",
     "output_type": "stream",
     "text": [
      "Motor count classes in dataset: [np.int64(0), np.int64(1), np.int64(2), np.int64(3), np.int64(4), np.int64(6), np.int64(10)]\n"
     ]
    }
   ],
   "source": [
    "import pandas as pd\n",
    "from src.config import FULL_LABELS_PATH\n",
    "\n",
    "# Load full labels\n",
    "full_labels = pd.read_csv(FULL_LABELS_PATH)\n",
    "\n",
    "# Get one row per tomogram\n",
    "unique_tomos = full_labels.drop_duplicates(subset=\"tomo_id\")\n",
    "\n",
    "# Identify all classes\n",
    "all_motor_classes = sorted(unique_tomos[\"Number of motors\"].unique())\n",
    "print(\"Motor count classes in dataset:\", all_motor_classes)"
   ]
  },
  {
   "cell_type": "markdown",
   "id": "70aca20a",
   "metadata": {},
   "source": [
    "### 3.2 Compute 10% Sample Size Per Class\n",
    "\n",
    "Calculate how many tomograms to sample from each motor count class by taking 10% of their total (rounded).  \n",
    "To ensure all classes are represented, a minimum of **1 tomogram** is sampled from each class."
   ]
  },
  {
   "cell_type": "code",
   "execution_count": 5,
   "id": "0801edf1",
   "metadata": {},
   "outputs": [
    {
     "name": "stdout",
     "output_type": "stream",
     "text": [
      "Sampling Summary (10% per class, min=1):\n"
     ]
    },
    {
     "data": {
      "text/html": [
       "<div>\n",
       "<style scoped>\n",
       "    .dataframe tbody tr th:only-of-type {\n",
       "        vertical-align: middle;\n",
       "    }\n",
       "\n",
       "    .dataframe tbody tr th {\n",
       "        vertical-align: top;\n",
       "    }\n",
       "\n",
       "    .dataframe thead th {\n",
       "        text-align: right;\n",
       "    }\n",
       "</style>\n",
       "<table border=\"1\" class=\"dataframe\">\n",
       "  <thead>\n",
       "    <tr style=\"text-align: right;\">\n",
       "      <th></th>\n",
       "      <th>Total Tomograms</th>\n",
       "      <th>Sample Size (10%)</th>\n",
       "    </tr>\n",
       "    <tr>\n",
       "      <th>Motor Count Class</th>\n",
       "      <th></th>\n",
       "      <th></th>\n",
       "    </tr>\n",
       "  </thead>\n",
       "  <tbody>\n",
       "    <tr>\n",
       "      <th>0</th>\n",
       "      <td>286</td>\n",
       "      <td>29</td>\n",
       "    </tr>\n",
       "    <tr>\n",
       "      <th>1</th>\n",
       "      <td>313</td>\n",
       "      <td>31</td>\n",
       "    </tr>\n",
       "    <tr>\n",
       "      <th>2</th>\n",
       "      <td>30</td>\n",
       "      <td>3</td>\n",
       "    </tr>\n",
       "    <tr>\n",
       "      <th>3</th>\n",
       "      <td>6</td>\n",
       "      <td>1</td>\n",
       "    </tr>\n",
       "    <tr>\n",
       "      <th>4</th>\n",
       "      <td>9</td>\n",
       "      <td>1</td>\n",
       "    </tr>\n",
       "    <tr>\n",
       "      <th>6</th>\n",
       "      <td>3</td>\n",
       "      <td>1</td>\n",
       "    </tr>\n",
       "    <tr>\n",
       "      <th>10</th>\n",
       "      <td>1</td>\n",
       "      <td>1</td>\n",
       "    </tr>\n",
       "  </tbody>\n",
       "</table>\n",
       "</div>"
      ],
      "text/plain": [
       "                   Total Tomograms  Sample Size (10%)\n",
       "Motor Count Class                                    \n",
       "0                              286                 29\n",
       "1                              313                 31\n",
       "2                               30                  3\n",
       "3                                6                  1\n",
       "4                                9                  1\n",
       "6                                3                  1\n",
       "10                               1                  1"
      ]
     },
     "metadata": {},
     "output_type": "display_data"
    }
   ],
   "source": [
    "# Count total tomograms per class\n",
    "motor_class_counts = unique_tomos[\"Number of motors\"].value_counts().sort_index()\n",
    "\n",
    "# Compute 10% sample size with minimum of 1\n",
    "sample_sizes = motor_class_counts.apply(lambda x: max(1, round(x * 0.10)))\n",
    "\n",
    "# Combine into a summary DataFrame\n",
    "sampling_summary = pd.DataFrame({\n",
    "    \"Motor Count Class\": motor_class_counts.index,\n",
    "    \"Total Tomograms\": motor_class_counts.values,\n",
    "    \"Sample Size (10%)\": sample_sizes.values\n",
    "}).set_index(\"Motor Count Class\")\n",
    "\n",
    "# Display the table\n",
    "print(\"Sampling Summary (10% per class, min=1):\")\n",
    "display(sampling_summary)"
   ]
  },
  {
   "cell_type": "markdown",
   "id": "c854875c",
   "metadata": {},
   "source": [
    "### 3.3 Sample the Tomograms\n",
    "\n",
    "Draw the 10% sample from each motor count class"
   ]
  },
  {
   "cell_type": "code",
   "execution_count": 6,
   "id": "17d9a7ba",
   "metadata": {},
   "outputs": [
    {
     "name": "stdout",
     "output_type": "stream",
     "text": [
      "Total sampled tomograms: 67\n"
     ]
    }
   ],
   "source": [
    "# Sample 10% of tomograms from each motor count class (with min=1)\n",
    "# We move 'Number of motors' to the index to avoid future warnings from groupby-apply behavior.\n",
    "sampled = (\n",
    "    unique_tomos\n",
    "    .set_index(\"Number of motors\", append=True)  # move group key to index\n",
    "    .groupby(level=\"Number of motors\", group_keys=False)\n",
    "    .apply(lambda x: x.sample(n=sample_sizes.loc[x.name], random_state=42))\n",
    "    .reset_index(drop=True)  # clean up index\n",
    ")\n",
    "\n",
    "print(f\"Total sampled tomograms: {len(sampled)}\")"
   ]
  },
  {
   "cell_type": "markdown",
   "id": "c28475ce",
   "metadata": {},
   "source": [
    "### 3.4 Save Sampled Labels\n",
    "\n",
    "Save the sampled tomogram metadata to `SAMPLED_LABELS_PATH`, unless the file already exists."
   ]
  },
  {
   "cell_type": "code",
   "execution_count": 7,
   "id": "f7c10932",
   "metadata": {},
   "outputs": [
    {
     "name": "stdout",
     "output_type": "stream",
     "text": [
      "File already exists at: /Users/ramy/Desktop/team_project/BYU_Locating_Bacterial_Flagellar_Motors_2025/data/sampled/sampled_train_labels.csv\n"
     ]
    }
   ],
   "source": [
    "import os\n",
    "from src.config import SAMPLED_LABELS_PATH\n",
    "\n",
    "# Check if the output file already exists\n",
    "if os.path.exists(SAMPLED_LABELS_PATH):\n",
    "    print(f\"File already exists at: {SAMPLED_LABELS_PATH}\")\n",
    "else:\n",
    "    sampled.to_csv(SAMPLED_LABELS_PATH, index=False)\n",
    "    print(f\"Sampled labels saved to: {SAMPLED_LABELS_PATH}\")"
   ]
  },
  {
   "cell_type": "markdown",
   "id": "b09b2519",
   "metadata": {},
   "source": [
    "### 3.5 Copy Sampled Tomogram Folders\n",
    "\n",
    "After saving the sampled labels, copy the corresponding tomogram folders from `FULL_DATA_TRAIN_DIR` to `EXTERNAL_SAMPLED_TRAIN_DIR`.\n",
    "Only folders for sampled `tomo_id`s will be copied. Existing folders will be skipped."
   ]
  },
  {
   "cell_type": "code",
   "execution_count": 11,
   "id": "49340268",
   "metadata": {},
   "outputs": [
    {
     "name": "stderr",
     "output_type": "stream",
     "text": [
      "Copying tomogram folders: 100%|██████████| 67/67 [00:31<00:00,  2.13it/s]"
     ]
    },
    {
     "name": "stdout",
     "output_type": "stream",
     "text": [
      "\n",
      "Copy complete:\n",
      "- Copied folders: 67\n",
      "- Skipped (already exists): 0\n",
      "- Missing source folders: 0\n"
     ]
    },
    {
     "name": "stderr",
     "output_type": "stream",
     "text": [
      "\n"
     ]
    }
   ],
   "source": [
    "import shutil\n",
    "import os\n",
    "from src.config import FULL_DATA_TRAIN_DIR, EXTERNAL_SAMPLED_TRAIN_DIR\n",
    "from tqdm import tqdm\n",
    "\n",
    "sampled_tomos = sampled[\"tomo_id\"].unique()\n",
    "\n",
    "os.makedirs(EXTERNAL_SAMPLED_TRAIN_DIR, exist_ok=True)\n",
    "\n",
    "copied = 0\n",
    "skipped = 0\n",
    "missing = 0\n",
    "\n",
    "for tomo_id in tqdm(sampled_tomos, desc=\"Copying tomogram folders\"):\n",
    "    src_path = os.path.join(FULL_DATA_TRAIN_DIR, tomo_id)\n",
    "    dst_path = os.path.join(EXTERNAL_SAMPLED_TRAIN_DIR, tomo_id)\n",
    "\n",
    "    if not os.path.exists(src_path):\n",
    "        missing += 1\n",
    "        continue\n",
    "\n",
    "    if os.path.exists(dst_path):\n",
    "        skipped += 1\n",
    "        continue\n",
    "\n",
    "    shutil.copytree(src_path, dst_path)\n",
    "    copied += 1\n",
    "\n",
    "# Summary output only\n",
    "print(f\"\\nCopy complete:\")\n",
    "print(f\"- Copied folders: {copied}\")\n",
    "print(f\"- Skipped (already exists): {skipped}\")\n",
    "print(f\"- Missing source folders: {missing}\")"
   ]
  },
  {
   "cell_type": "code",
   "execution_count": null,
   "id": "16f3ceb4",
   "metadata": {},
   "outputs": [],
   "source": []
  }
 ],
 "metadata": {
  "kernelspec": {
   "display_name": ".venv",
   "language": "python",
   "name": "python3"
  },
  "language_info": {
   "codemirror_mode": {
    "name": "ipython",
    "version": 3
   },
   "file_extension": ".py",
   "mimetype": "text/x-python",
   "name": "python",
   "nbconvert_exporter": "python",
   "pygments_lexer": "ipython3",
   "version": "3.13.2"
  }
 },
 "nbformat": 4,
 "nbformat_minor": 5
}
